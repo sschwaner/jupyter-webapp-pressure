{
 "cells": [
  {
   "cell_type": "code",
   "execution_count": 1,
   "id": "4501929b",
   "metadata": {},
   "outputs": [],
   "source": [
    "import warnings\n",
    "warnings.filterwarnings(\"ignore\")\n",
    "\n",
    "import ipywidgets as widgets\n",
    "from IPython.display import display, clear_output\n",
    "\n",
    "#!jupyter nbextension enable --py widgetsnbextension --sys-prefix\n",
    "#!jupyter serverextension enable voila --sys-prefix\n"
   ]
  },
  {
   "cell_type": "code",
   "execution_count": 2,
   "id": "9f01103d",
   "metadata": {},
   "outputs": [],
   "source": [
    "# Input\n",
    "\n",
    "# user inputs a number and selects a unit from a drop down\n",
    "\n",
    "input_pressure = widgets.FloatText(\n",
    "    value=1,\n",
    "    description=\"Value\",\n",
    ")\n",
    "\n",
    "\n",
    "units = [\"atm\", \"kPa\", \"mm Hg\", \"cm H2O\", \"bar\", \"psi\"]\n",
    "\n",
    "drop_units = widgets.Dropdown(\n",
    "        options=units,\n",
    "        description=\"Select units\"\n",
    ")\n",
    "\n",
    "hbox_input = widgets.HBox([input_pressure, drop_units])"
   ]
  },
  {
   "cell_type": "code",
   "execution_count": 3,
   "id": "cb70a347",
   "metadata": {},
   "outputs": [],
   "source": [
    "# Define conversion dictionary\n",
    "\n",
    "conversions = {unit: {} for unit in units}\n",
    "\n",
    "conversions[\"atm\"] = {\"atm\": 1,\n",
    "                      \"kPa\": 101.3,\n",
    "                      \"mm Hg\": 760,\n",
    "                      \"cm H2O\": 1034.3,\n",
    "                      \"bar\": 1.013,\n",
    "                      \"psi\": 14.7\n",
    "                     }\n",
    "\n",
    "\n",
    "conversions[\"kPa\"] = {\"atm\": 0.00987,\n",
    "                      \"kPa\": 1,\n",
    "                      \"mm Hg\": 7.5,\n",
    "                      \"cm H2O\": 10.207,\n",
    "                      \"bar\": 0.01,\n",
    "                      \"psi\": 0.14504\n",
    "                     }\n",
    "\n",
    "conversions[\"mm Hg\"] = {\"atm\": 0.001316,\n",
    "                      \"kPa\": 0.1333,\n",
    "                      \"mm Hg\": 1,\n",
    "                      \"cm H2O\": 1.361,\n",
    "                      \"bar\": 0.001333,\n",
    "                      \"psi\": 0.01934\n",
    "                     }\n",
    "\n",
    "conversions[\"cm H2O\"] = {\"atm\": 0.000967,\n",
    "                      \"kPa\": 0.098,\n",
    "                      \"mm Hg\": 0.735,\n",
    "                      \"cm H2O\": 1,\n",
    "                      \"bar\": 0.00098,\n",
    "                      \"psi\": 0.01421\n",
    "                     }\n",
    "\n",
    "conversions[\"bar\"] = {\"atm\": 0.987,\n",
    "                      \"kPa\": 100,\n",
    "                      \"mm Hg\": 750,\n",
    "                      \"cm H2O\": 1021,\n",
    "                      \"bar\": 1,\n",
    "                      \"psi\": 14.504\n",
    "                     }\n",
    "\n",
    "conversions[\"psi\"] = {\"atm\": 0.681,\n",
    "                      \"kPa\": 6.895,\n",
    "                      \"mm Hg\": 51.715,\n",
    "                      \"cm H2O\": 70.38,\n",
    "                      \"bar\": 0.0689,\n",
    "                      \"psi\": 1\n",
    "                     }\n",
    "\n"
   ]
  },
  {
   "cell_type": "code",
   "execution_count": 4,
   "id": "994827bb",
   "metadata": {},
   "outputs": [],
   "source": [
    "# Define the button\n",
    "\n",
    "button = widgets.Button(\n",
    "    description = \"Click me\",\n",
    "    button_style = \"\",\n",
    "    tooltip = \"Click me\")\n",
    "\n",
    "vbox_input = widgets.VBox([hbox_input, button])\n",
    "\n"
   ]
  },
  {
   "cell_type": "code",
   "execution_count": 5,
   "id": "c2a2c8d6",
   "metadata": {},
   "outputs": [
    {
     "data": {
      "application/vnd.jupyter.widget-view+json": {
       "model_id": "504f06739ffc4e16b0aecde4f9c46e10",
       "version_major": 2,
       "version_minor": 0
      },
      "text/plain": [
       "VBox(children=(HBox(children=(FloatText(value=1.0, description='Value'), Dropdown(description='Select units', …"
      ]
     },
     "metadata": {},
     "output_type": "display_data"
    }
   ],
   "source": [
    "display(vbox_input)"
   ]
  },
  {
   "cell_type": "code",
   "execution_count": 6,
   "id": "32116f80",
   "metadata": {},
   "outputs": [
    {
     "data": {
      "application/vnd.jupyter.widget-view+json": {
       "model_id": "0b8041dac9a042bd92c834cf28599f1e",
       "version_major": 2,
       "version_minor": 0
      },
      "text/plain": [
       "VBox(children=(VBox(children=(HBox(children=(FloatText(value=1.0, description='Value'), Dropdown(description='…"
      ]
     },
     "metadata": {},
     "output_type": "display_data"
    }
   ],
   "source": [
    "# Define the function to execute when the button is pressed\n",
    "\n",
    "value = input_pressure.value\n",
    "unit = drop_units.value\n",
    "\n",
    "atm = value * conversions[unit][\"atm\"]\n",
    "kpa = value * conversions[unit][\"kPa\"]\n",
    "mmhg = value * conversions[unit][\"mm Hg\"]\n",
    "cmh2o = value * conversions[unit][\"cm H2O\"]\n",
    "bar = value * conversions[unit][\"bar\"]\n",
    "psi = value * conversions[unit][\"psi\"]\n",
    "\n",
    "# define atm, kPa, etc.\n",
    "\n",
    "html_atm = widgets.HTML(\n",
    "    value=f\"{atm} atm\")\n",
    "html_kpa = widgets.HTML(\n",
    "    value=f\"{kpa} kPa\")\n",
    "html_mmhg = widgets.HTML(\n",
    "    value=f\"{mmhg} mm Hg\")\n",
    "html_cmh2o = widgets.HTML(\n",
    "    value=f\"{cmh2o} cm H2O\")\n",
    "html_bar = widgets.HTML(\n",
    "    value=f\"{bar} bar\")\n",
    "html_psi = widgets.HTML(\n",
    "    value=f\"{psi} psi\")\n",
    "\n",
    "vbox_html = widgets.VBox([html_atm, html_kpa, html_mmhg, html_cmh2o, html_bar, html_psi])\n",
    "\n",
    "vbox_main = widgets.VBox([vbox_input, vbox_html])\n",
    "\n",
    "display(vbox_main)\n",
    "\n"
   ]
  },
  {
   "cell_type": "code",
   "execution_count": 8,
   "id": "72b2d226",
   "metadata": {},
   "outputs": [],
   "source": [
    "# Define the function to execute when the button is pressed\n",
    "def update_pressure(x):\n",
    "    value = input_pressure.value\n",
    "    unit = drop_units.value\n",
    "    \n",
    "    atm = value * conversions[unit][\"atm\"]\n",
    "    kpa = value * conversions[unit][\"kPa\"]\n",
    "    mmhg = value * conversions[unit][\"mm Hg\"]\n",
    "    cmh2o = value * conversions[unit][\"cm H2O\"]\n",
    "    bar = value * conversions[unit][\"bar\"]\n",
    "    psi = value * conversions[unit][\"psi\"]\n",
    "    \n",
    "    # define atm, kPa, etc.\n",
    "    \n",
    "    html_atm.value=f\"{atm} atm\"\n",
    "    html_kpa.value=f\"{kpa} kPa\"\n",
    "    html_mmhg.value=f\"{mmhg} mm Hg\"\n",
    "    html_cmh2o.value=f\"{cmh2o} cm H2O\"\n",
    "    html_bar.value=f\"{bar} bar\"\n",
    "    html_psi.value=f\"{psi} psi\"\n",
    "\n",
    "update_pressure(1)\n",
    "\n",
    "button.on_click(update_pressure)\n",
    "\n",
    "\n"
   ]
  },
  {
   "cell_type": "code",
   "execution_count": 7,
   "id": "3f037352",
   "metadata": {},
   "outputs": [],
   "source": []
  },
  {
   "cell_type": "code",
   "execution_count": null,
   "id": "b33e8f0e",
   "metadata": {},
   "outputs": [],
   "source": []
  }
 ],
 "metadata": {
  "kernelspec": {
   "display_name": "Python 3 (ipykernel)",
   "language": "python",
   "name": "python3"
  },
  "language_info": {
   "codemirror_mode": {
    "name": "ipython",
    "version": 3
   },
   "file_extension": ".py",
   "mimetype": "text/x-python",
   "name": "python",
   "nbconvert_exporter": "python",
   "pygments_lexer": "ipython3",
   "version": "3.10.8"
  }
 },
 "nbformat": 4,
 "nbformat_minor": 5
}
